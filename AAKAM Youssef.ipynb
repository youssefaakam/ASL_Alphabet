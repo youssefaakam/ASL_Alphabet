{
 "cells": [
  {
   "cell_type": "markdown",
   "metadata": {},
   "source": [
    "# Importation des librairies"
   ]
  },
  {
   "cell_type": "code",
   "execution_count": 57,
   "metadata": {},
   "outputs": [],
   "source": [
    "import numpy as np\n",
    "import cv2\n",
    "import os\n",
    "import pandas as pd\n",
    "import itertools    \n",
    "import mahotas as mh\n",
    "import pickle\n",
    "import requests,json\n",
    "from sklearn.metrics import accuracy_score\n",
    "from sklearn.metrics import classification_report\n",
    "from sklearn import svm"
   ]
  },
  {
   "cell_type": "code",
   "execution_count": 3,
   "metadata": {},
   "outputs": [],
   "source": [
    "from sklearn.ensemble import RandomForestClassifier "
   ]
  },
  {
   "cell_type": "markdown",
   "metadata": {},
   "source": [
    "# extraction des caractéristiques"
   ]
  },
  {
   "cell_type": "code",
   "execution_count": 1,
   "metadata": {},
   "outputs": [],
   "source": [
    "def load_features_from_folder(folder):\n",
    "    #features = np.ones(525)\n",
    "    subd=[name for name in os.listdir(folder) if os.path.isdir(os.path.join(folder, name))]\n",
    "    i=0\n",
    "    j=0\n",
    "    train_y=[]\n",
    "    labels={}\n",
    "    for sub in subd:\n",
    "        labels[j]=sub\n",
    "        for filename in os.listdir(os.path.join(folder,sub)):\n",
    "            train_y.append(j)\n",
    "            \n",
    "            img = cv2.imread(os.path.join(os.path.join(folder,sub,),filename))\n",
    "            cv2.resize(img,None,fx=0.1,fy=0.1)\n",
    "            #mean,std,6\n",
    "            (means, stds) = cv2.meanStdDev(img)\n",
    "            mean_std=np.array(list(zip(means, stds))).flatten()\n",
    "            \n",
    "            #shape\n",
    "            gray = cv2.cvtColor(np.uint8(img), cv2.COLOR_BGR2GRAY)\n",
    "            shape=cv2.HuMoments(cv2.moments(gray)).flatten()\n",
    "            shape = -np.sign(shape) * np.log10(np.abs(shape))\n",
    "           \n",
    "            #histogram\n",
    "            hist = cv2.calcHist([np.uint8(img)], [0, 1, 2], None, [8,8,8], [0, 256, 0, 256, 0, 256]).flatten()\n",
    "            \n",
    "            #texture\n",
    "            texture = mh.features.haralick(img.astype(np.uint8)).ravel()\n",
    "            feature=np.hstack((mean_std,shape,texture,hist))\n",
    "            #feature=np.hstack((shape))\n",
    "            #feature=np.hstack((shape,texture))\n",
    "            if i==0:\n",
    "                features = np.zeros(feature.shape[0])\n",
    "                i=i+1\n",
    "            features = np.vstack((features,feature))\n",
    "        j+=1\n",
    "\n",
    "    return np.delete(features, (0), axis=0),np.asarray(train_y)"
   ]
  },
  {
   "cell_type": "markdown",
   "metadata": {},
   "source": [
    "# features extraction "
   ]
  },
  {
   "cell_type": "code",
   "execution_count": null,
   "metadata": {},
   "outputs": [],
   "source": [
    "feat_x,target_y=load_features_from_folder(\"asl_alphabet_train/asl_alphabet_train\")"
   ]
  },
  {
   "cell_type": "markdown",
   "metadata": {},
   "source": [
    "# serializing the features"
   ]
  },
  {
   "cell_type": "code",
   "execution_count": 4,
   "metadata": {},
   "outputs": [],
   "source": [
    "import pickle"
   ]
  },
  {
   "cell_type": "code",
   "execution_count": 7,
   "metadata": {},
   "outputs": [],
   "source": [
    "pcklt=open(\"target_y.pic\",\"wb\")\n",
    "pickle.dump(target_y,pcklt)\n",
    "pcklt.close()"
   ]
  },
  {
   "cell_type": "code",
   "execution_count": 13,
   "metadata": {},
   "outputs": [],
   "source": [
    "pckl=open(\"features.pic\",\"wb\")\n",
    "pickle.dump(feat_x,pckl)\n",
    "pckl.close()"
   ]
  },
  {
   "cell_type": "markdown",
   "metadata": {},
   "source": [
    "# load features"
   ]
  },
  {
   "cell_type": "code",
   "execution_count": 6,
   "metadata": {},
   "outputs": [
    {
     "data": {
      "text/plain": [
       "(87000, 525)"
      ]
     },
     "execution_count": 6,
     "metadata": {},
     "output_type": "execute_result"
    }
   ],
   "source": [
    "pckl_in=open(\"features.pic\",\"rb\")\n",
    "feat_x=pickle.load(pckl_in)\n",
    "feat_x.shape"
   ]
  },
  {
   "cell_type": "code",
   "execution_count": 7,
   "metadata": {},
   "outputs": [
    {
     "data": {
      "text/plain": [
       "(87000,)"
      ]
     },
     "execution_count": 7,
     "metadata": {},
     "output_type": "execute_result"
    }
   ],
   "source": [
    "pckl_target_in=open(\"target_y.pic\",\"rb\")\n",
    "target_y=pickle.load(pckl_target_in)\n",
    "target_y.shape"
   ]
  },
  {
   "cell_type": "markdown",
   "metadata": {},
   "source": [
    "#  SVM Classifier"
   ]
  },
  {
   "cell_type": "code",
   "execution_count": 58,
   "metadata": {},
   "outputs": [
    {
     "data": {
      "text/plain": [
       "SVC(C=1.0, cache_size=200, class_weight=None, coef0=0.0,\n",
       "  decision_function_shape='ovo', degree=3, gamma='scale', kernel='rbf',\n",
       "  max_iter=-1, probability=False, random_state=None, shrinking=True,\n",
       "  tol=0.001, verbose=False)"
      ]
     },
     "execution_count": 58,
     "metadata": {},
     "output_type": "execute_result"
    }
   ],
   "source": [
    "svmc = svm.SVC(gamma='scale', decision_function_shape='ovo')\n",
    "svmc.fit(feat_x,target_y)"
   ]
  },
  {
   "cell_type": "markdown",
   "metadata": {},
   "source": [
    "# RandomForest Classifier"
   ]
  },
  {
   "cell_type": "code",
   "execution_count": 45,
   "metadata": {},
   "outputs": [
    {
     "name": "stderr",
     "output_type": "stream",
     "text": [
      "C:\\Users\\hp\\Anaconda3\\lib\\site-packages\\sklearn\\ensemble\\forest.py:246: FutureWarning: The default value of n_estimators will change from 10 in version 0.20 to 100 in 0.22.\n",
      "  \"10 in version 0.20 to 100 in 0.22.\", FutureWarning)\n"
     ]
    },
    {
     "data": {
      "text/plain": [
       "RandomForestClassifier(bootstrap=True, class_weight=None, criterion='gini',\n",
       "            max_depth=None, max_features='auto', max_leaf_nodes=None,\n",
       "            min_impurity_decrease=0.0, min_impurity_split=None,\n",
       "            min_samples_leaf=1, min_samples_split=2,\n",
       "            min_weight_fraction_leaf=0.0, n_estimators=10, n_jobs=None,\n",
       "            oob_score=False, random_state=None, verbose=0,\n",
       "            warm_start=False)"
      ]
     },
     "execution_count": 45,
     "metadata": {},
     "output_type": "execute_result"
    }
   ],
   "source": [
    "rfc = RandomForestClassifier()\n",
    "rfc.fit(feat_x,target_y)"
   ]
  },
  {
   "cell_type": "markdown",
   "metadata": {},
   "source": [
    "# KNN Classifier"
   ]
  },
  {
   "cell_type": "code",
   "execution_count": 20,
   "metadata": {},
   "outputs": [],
   "source": [
    "from sklearn.neighbors import KNeighborsClassifier"
   ]
  },
  {
   "cell_type": "code",
   "execution_count": 51,
   "metadata": {},
   "outputs": [
    {
     "data": {
      "text/plain": [
       "KNeighborsClassifier(algorithm='auto', leaf_size=30, metric='minkowski',\n",
       "           metric_params=None, n_jobs=None, n_neighbors=7, p=2,\n",
       "           weights='distance')"
      ]
     },
     "execution_count": 51,
     "metadata": {},
     "output_type": "execute_result"
    }
   ],
   "source": [
    "knn = KNeighborsClassifier(n_neighbors=7,weights='distance')\n",
    "knn.fit(feat_x,target_y)"
   ]
  },
  {
   "cell_type": "markdown",
   "metadata": {},
   "source": [
    "# features extraction of data test"
   ]
  },
  {
   "cell_type": "code",
   "execution_count": 9,
   "metadata": {},
   "outputs": [],
   "source": [
    "def load_features_from_folder_for_test(folder):\n",
    "\n",
    "    i=0\n",
    "    for filename in os.listdir(os.path.join(folder)):\n",
    "            \n",
    "        img = cv2.imread(os.path.join(os.path.join(folder),filename))\n",
    "        cv2.resize(img,None,fx=0.1,fy=0.1)\n",
    "        #mean,std,6\n",
    "        (means, stds) = cv2.meanStdDev(img)\n",
    "        mean_std=np.array(list(zip(means, stds))).flatten()\n",
    "            \n",
    "        #shape\n",
    "        gray = cv2.cvtColor(np.uint8(img), cv2.COLOR_BGR2GRAY)\n",
    "        shape=cv2.HuMoments(cv2.moments(gray)).flatten()\n",
    "        shape = -np.sign(shape) * np.log10(np.abs(shape))\n",
    "        #histogram\n",
    "        hist = cv2.calcHist([np.uint8(img)], [0, 1, 2], None, [8,8,8], [0, 256, 0, 256, 0, 256]).flatten()\n",
    "        \"\"\"#texture\n",
    "        texture = mh.features.haralick(img.astype(np.uint8)).ravel()\"\"\"\n",
    "        #feature=np.hstack((texture,shape,hist))\n",
    "        #feature=np.hstack((texture))\n",
    "        feature=np.hstack((mean_std,shape,hist))\n",
    "        if i==0:\n",
    "            features = np.zeros(feature.shape[0])\n",
    "            i=i+1\n",
    "        features = np.vstack((features,feature))\n",
    "    return np.delete(features, (0), axis=0)"
   ]
  },
  {
   "cell_type": "code",
   "execution_count": 10,
   "metadata": {},
   "outputs": [],
   "source": [
    "test_x=load_features_from_folder_for_test(\"asl_alphabet_test/asl_alphabet_test\")"
   ]
  },
  {
   "cell_type": "markdown",
   "metadata": {},
   "source": [
    "# test RFC"
   ]
  },
  {
   "cell_type": "code",
   "execution_count": 46,
   "metadata": {},
   "outputs": [
    {
     "name": "stdout",
     "output_type": "stream",
     "text": [
      "accuracy RFC:  ['A' 'B' 'C' 'D' 'E' 'F' 'G' 'H' 'I' 'J' 'K' 'L' 'M' 'nothing' 'N' 'O' 'P'\n",
      " 'Q' 'R' 'space' 'S' 'T' 'U' 'V' 'W' 'X' 'Y' 'Z']\n"
     ]
    }
   ],
   "source": [
    "test_rfc = rfc.predict(test_x)\n",
    "print('accuracy RFC: ',test_rfc)"
   ]
  },
  {
   "cell_type": "markdown",
   "metadata": {},
   "source": [
    "# Test KNN "
   ]
  },
  {
   "cell_type": "code",
   "execution_count": 52,
   "metadata": {},
   "outputs": [],
   "source": [
    "knn_pred=knn.predict(test_x)"
   ]
  },
  {
   "cell_type": "code",
   "execution_count": 53,
   "metadata": {},
   "outputs": [
    {
     "name": "stdout",
     "output_type": "stream",
     "text": [
      "prédictions de knn: \n",
      "['A' 'B' 'C' 'D' 'E' 'F' 'G' 'H' 'I' 'J' 'K' 'L' 'M' 'nothing' 'N' 'O' 'P'\n",
      " 'Q' 'R' 'space' 'S' 'T' 'U' 'V' 'W' 'X' 'Y' 'Z']\n"
     ]
    }
   ],
   "source": [
    "print(\"prédictions de knn: \\n{}\".format(knn_pred))"
   ]
  },
  {
   "cell_type": "code",
   "execution_count": 55,
   "metadata": {},
   "outputs": [],
   "source": [
    "accuracy=accuracy_score(range(1,29),knn_pred)"
   ]
  },
  {
   "cell_type": "code",
   "execution_count": 56,
   "metadata": {},
   "outputs": [
    {
     "name": "stdout",
     "output_type": "stream",
     "text": [
      "accuracy: 85.71428571428571\n"
     ]
    }
   ],
   "source": [
    "print('accuracy: {}'.format(accuracy*100))"
   ]
  },
  {
   "cell_type": "markdown",
   "metadata": {},
   "source": [
    "# test SVM"
   ]
  },
  {
   "cell_type": "code",
   "execution_count": 60,
   "metadata": {},
   "outputs": [
    {
     "name": "stdout",
     "output_type": "stream",
     "text": [
      "predictions of SVM Classifier: ['A' 'B' 'C' 'D' 'E' 'F' 'G' 'H' 'I' 'J' 'K' 'L' 'M' 'nothing' 'N' 'O' 'P'\n",
      " 'Q' 'R' 'space' 'S' 'T' 'U' 'V' 'W' 'X' 'X' 'Z']\n"
     ]
    }
   ],
   "source": [
    "test_svm=svmc.predict(test_x)\n",
    "print('predictions of SVM Classifier: {}'.format(test_svm))"
   ]
  },
  {
   "cell_type": "code",
   "execution_count": null,
   "metadata": {},
   "outputs": [],
   "source": []
  }
 ],
 "metadata": {
  "kernelspec": {
   "display_name": "Python 3",
   "language": "python",
   "name": "python3"
  },
  "language_info": {
   "codemirror_mode": {
    "name": "ipython",
    "version": 3
   },
   "file_extension": ".py",
   "mimetype": "text/x-python",
   "name": "python",
   "nbconvert_exporter": "python",
   "pygments_lexer": "ipython3",
   "version": "3.7.3"
  }
 },
 "nbformat": 4,
 "nbformat_minor": 2
}
